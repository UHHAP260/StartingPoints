{
 "cells": [
  {
   "cell_type": "markdown",
   "metadata": {},
   "source": [
    "\n",
    "# Exercise 2.2 Altitude of a Satellite\n",
    "\n",
    "Note: Skip part a). We'll do this in class.\n",
    "\n",
    "A satellite is to be launched into a circular orbit around the Earth so that it orbits the planet once every T seconds.\n",
    "\n",
    "a) Show that the altitude h above the Earth’s surface that the satellite must have is  \n",
    "\n",
    "$$ h = (\\frac{GMT^2}{4\\pi^2})^{1/3} - R $$\n",
    "\n",
    "where \n",
    "\n",
    "G = 6.67 × 10−11 m3 kg−1 s−2 is Newton’s gravitational constant, \n",
    "\n",
    "M = 5.97 × 1024 kg is the mass of the Earth, and \n",
    "\n",
    "R = 6371 km is its radius.\n",
    "\n",
    "b) Write a program that asks the user to enter the desired value of T and then calculates and\n",
    "prints out the correct altitude in meters.\n",
    "\n",
    "c) Use your program to calculate the altitudes of satellites that orbit the Earth once a day (so-called “geosynchronous” orbit), once every 90 minutes, and once every 45 minutes. What do you conclude from the last of these calculations?\n",
    "\n",
    "d) Technically a geosynchronous satellite is one that orbits the Earth once per sidereal day, which is 23.93 hours, not 24 hours. Why is this? And how much difference will it make to the altitude of the satellite?\n"
   ]
  },
  {
   "cell_type": "markdown",
   "metadata": {},
   "source": [
    "## Getting Started\n",
    "\n",
    "Take a moment to state how you plan to do the exrcise. Write some pseudo code. Include a summary of your plan in the begging of the notebook. As you carryout your plan, if you encounter noteworthy challenges, come back here and include some notes. For example:\n",
    "\n",
    "Note: Sometimes I need to run the cell twice to get latex to render properly.\n",
    "\n",
    "Note: Reference for astropy constants [here](http://astropy.readthedocs.io/en/v0.3.2/constants/index.html)\n",
    "\n",
    "Note: Using the astropy constants don't necessarily make the code simpler. Here it's simply meant to introduce the fact that a package that contains tools of particular interest to astronomers exists. Among the tools are a collection of commonly used \"quantities.\" \n",
    "\n",
    "The example below is records most, if not all, of what I needed to do to complete the exercise to my own satisfaction. In the beginning, err on the side of saying more than you need to. As you get comfortable coding, python, and your coding environment, you won't have as much to comment on.\n"
   ]
  },
  {
   "cell_type": "markdown",
   "metadata": {},
   "source": [
    "## Here's an example:\n",
    "\n",
    "### Part B\n",
    "\n",
    "Code must:\n",
    "    get period = T\n",
    "    calculate height of satellite = h\n",
    "    print h in meters\n",
    "\n",
    "Plan:\n",
    "\n",
    "Get the mecahnics of the code working. Turn working code into a function. Write a new verison of the funtion that has input and output statements.\n",
    "\n",
    "Outcome: \n",
    "\n",
    "Wrote a function height(T) that returns the height if given T and another function \n",
    "statellite_height() that asks for input and then prints the result."
   ]
  },
  {
   "cell_type": "code",
   "execution_count": 2,
   "metadata": {},
   "outputs": [],
   "source": [
    "# for fun, import necessary constants from the astropy package\n",
    "# these are \"quantity\" objects, not variables\n",
    "from astropy.constants import G, M_earth, R_earth\n",
    "from math import pi"
   ]
  },
  {
   "cell_type": "code",
   "execution_count": 3,
   "metadata": {},
   "outputs": [
    {
     "name": "stdout",
     "output_type": "stream",
     "text": [
      "  Name   = Gravitational constant\n",
      "  Value  = 6.67408e-11\n",
      "  Uncertainty  = 3.1e-15\n",
      "  Unit  = m3 / (kg s2)\n",
      "  Reference = CODATA 2014\n",
      "  Name   = Earth mass\n",
      "  Value  = 5.972364730419773e+24\n",
      "  Uncertainty  = 2.7740648395436216e+20\n",
      "  Unit  = kg\n",
      "  Reference = IAU 2015 Resolution B 3 + CODATA 2014\n",
      "  Name   = Nominal Earth equatorial radius\n",
      "  Value  = 6378100.0\n",
      "  Uncertainty  = 0.0\n",
      "  Unit  = m\n",
      "  Reference = IAU 2015 Resolution B 3\n"
     ]
    }
   ],
   "source": [
    "print(G)\n",
    "print(M_earth)\n",
    "print(R_earth)"
   ]
  },
  {
   "cell_type": "code",
   "execution_count": 4,
   "metadata": {},
   "outputs": [],
   "source": [
    "# import pi from math\n",
    "# this is a variable\n",
    "from math import pi"
   ]
  },
  {
   "cell_type": "code",
   "execution_count": 5,
   "metadata": {},
   "outputs": [
    {
     "name": "stdout",
     "output_type": "stream",
     "text": [
      "3.141592653589793\n"
     ]
    }
   ],
   "source": [
    "print(pi)"
   ]
  },
  {
   "cell_type": "code",
   "execution_count": 7,
   "metadata": {},
   "outputs": [
    {
     "name": "stdout",
     "output_type": "stream",
     "text": [
      "6.67408e-11\n",
      "5.972364730419773e+24\n",
      "6378100.0\n"
     ]
    }
   ],
   "source": [
    "# the simplest way to use values of the quantities I've imported in astropy is to reference their value\n",
    "# just make sure you're using appropriate units\n",
    "print(G.value)\n",
    "print(M_earth.value)\n",
    "print(R_earth.value)"
   ]
  },
  {
   "cell_type": "markdown",
   "metadata": {},
   "source": [
    "## OK - now its your turn to get coding!"
   ]
  },
  {
   "cell_type": "code",
   "execution_count": null,
   "metadata": {},
   "outputs": [],
   "source": [
    "# Assign some an initail value to T\n",
    "# note that it has to be in seconds for the units to work\n",
    "T=0.0\n"
   ]
  }
 ],
 "metadata": {
  "kernelspec": {
   "display_name": "Python 3",
   "language": "python",
   "name": "python3"
  },
  "language_info": {
   "codemirror_mode": {
    "name": "ipython",
    "version": 3
   },
   "file_extension": ".py",
   "mimetype": "text/x-python",
   "name": "python",
   "nbconvert_exporter": "python",
   "pygments_lexer": "ipython3",
   "version": "3.6.3"
  }
 },
 "nbformat": 4,
 "nbformat_minor": 2
}
