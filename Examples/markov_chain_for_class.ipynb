{
 "cells": [
  {
   "cell_type": "markdown",
   "metadata": {},
   "source": [
    "(Incomplete) Implementation of the Markov chain code to generate new quotes from [Ramdtin Alami's post on machine learning](http://www.ramtin.xyz/post/4) for ASTR260 by Catherine Ishida."
   ]
  },
  {
   "cell_type": "code",
   "execution_count": null,
   "metadata": {},
   "outputs": [],
   "source": [
    "# We could read the training sentences from an external file but here we'll just code it in.\n",
    "dataset_file=[\"We eat apples.\", \"You eat apples.\", \"I like to eat oranges.\" ]"
   ]
  },
  {
   "cell_type": "code",
   "execution_count": null,
   "metadata": {},
   "outputs": [],
   "source": [
    "for line in dataset_file:    \n",
    "    line = line.lower().split()\n",
    "    for i, word in enumerate(line): \n",
    "        if i == len(line)-1: \n",
    "            model['END'] = model.get('END', []) + [word]\n",
    "        else:    \n",
    "            if i == 0: \n",
    "                model['START'] = model.get('START', []) + [word]\n",
    "            model[word] = model.get(word, []) + [line[i+1]] \n",
    "        "
   ]
  },
  {
   "cell_type": "code",
   "execution_count": null,
   "metadata": {},
   "outputs": [],
   "source": [
    "import random "
   ]
  },
  {
   "cell_type": "code",
   "execution_count": null,
   "metadata": {},
   "outputs": [],
   "source": [
    "generated = [] \n",
    "while True: \n",
    "    if not generated:\n",
    "        words = model['START'] \n",
    "    elif generated[-1] in model['END']: \n",
    "        break\n",
    "    else:\n",
    "        words = model[generated[-1]] \n",
    "    generated.append(random.choice(words)) "
   ]
  },
  {
   "cell_type": "code",
   "execution_count": null,
   "metadata": {},
   "outputs": [],
   "source": []
  }
 ],
 "metadata": {
  "kernelspec": {
   "display_name": "Python 3",
   "language": "python",
   "name": "python3"
  },
  "language_info": {
   "codemirror_mode": {
    "name": "ipython",
    "version": 3
   },
   "file_extension": ".py",
   "mimetype": "text/x-python",
   "name": "python",
   "nbconvert_exporter": "python",
   "pygments_lexer": "ipython3",
   "version": "3.6.3"
  }
 },
 "nbformat": 4,
 "nbformat_minor": 2
}
