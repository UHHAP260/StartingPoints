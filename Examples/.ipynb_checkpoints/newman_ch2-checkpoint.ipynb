{
 "cells": [
  {
   "cell_type": "markdown",
   "metadata": {},
   "source": [
    "# 2.1 Getting started\n",
    "\n",
    "We'll be using Jupyter Lab as our preferred __development environment__ for class. However, remember that everything inside Jupyter Lab is just a module, and there are independent apps and other development environments that can do the job of any one module just as well or better. For example, some times its easiest to do some quick computations right from a regular __terminal__. Also, Jupyter Lab is only in \"alpha,\" which means that its still in an early phase of development so its features are constantly changing and are not fully implemented.\n",
    "\n",
    "Open a __terminal__ window. The default __shell__ is likely to be \"bash\" or the \"Bourne\" shell. Type \"__python__.\" This will start the python command line intepreter in the terminal window and will inform you of a helpful command/__function__: __help()__. The prompt __>>>__ means python is ready for input. Read chapter 2 in the textbook and tryout someof the basic commands.\n",
    "\n",
    "# 2.2 Basic Programming\n",
    "\n",
    "A program is list of __statements__, i.e. instructions, __executed__ by a computer.\n",
    "\n",
    "## 2.2.1 Variables and Assignments and 2.2.2 Variable Types\n",
    "\n",
    "Here are some __variable types__ and some __assigment statements__\n",
    "   - integer x=1, x = 1, x=int(1.0) (spaces are OK - good for readability, but not OK at beginning of statements)\n",
    "   - float e.g. x = 1.2e34, x=float(1)\n",
    "   - complex e.g. x = 1 + 2j, x=complex(1.5)\n",
    "   - string x=\"this is a string\",x=\"1.234\"\n",
    "      \n",
    "Variable names cannot start with number, contain symbols or spaces, cannot be reserved word, and are case sensitive.          \n",
    "## 2.2.3 Output and Input Statements\n",
    "output statements\n",
    "   - print() (note: python 2 doesn't have parentheses) \n",
    "   - print will do some autoformating that can be helpful or annoying as in the example below "
   ]
  },
  {
   "cell_type": "code",
   "execution_count": 2,
   "metadata": {},
   "outputs": [
    {
     "name": "stdout",
     "output_type": "stream",
     "text": [
      "1\n",
      "2\n",
      "2\n",
      "The value of x is 1 and the value of y is 2 .\n",
      "1&2&3\n",
      "1 & 2 & 3\n"
     ]
    }
   ],
   "source": [
    "x=1\n",
    "y=2\n",
    "ystr=str(y)\n",
    "print(x)\n",
    "print(ystr)\n",
    "print(ystr.strip())\n",
    "print(\"The value of x is\",x,\"and the value of y is\",ystr.strip(),\".\")\n",
    "z=3\n",
    "print(x,y,z,sep=\"&\")\n",
    "print(x,y,z,sep=\" & \")"
   ]
  },
  {
   "cell_type": "markdown",
   "metadata": {},
   "source": [
    "Input is accomplishe with __input()__. Input() interprets all input as a string, which complicates its use."
   ]
  },
  {
   "cell_type": "code",
   "execution_count": null,
   "metadata": {
    "scrolled": true
   },
   "outputs": [],
   "source": [
    "temp=input(\"Enter the value of x: \")"
   ]
  },
  {
   "cell_type": "code",
   "execution_count": 4,
   "metadata": {},
   "outputs": [
    {
     "name": "stdout",
     "output_type": "stream",
     "text": [
      "The value of x is: 10\n"
     ]
    },
    {
     "ename": "TypeError",
     "evalue": "unsupported operand type(s) for /: 'str' and 'int'",
     "output_type": "error",
     "traceback": [
      "\u001b[0;31m---------------------------------------------------------------------------\u001b[0m",
      "\u001b[0;31mTypeError\u001b[0m                                 Traceback (most recent call last)",
      "\u001b[0;32m<ipython-input-4-5e959c44131d>\u001b[0m in \u001b[0;36m<module>\u001b[0;34m()\u001b[0m\n\u001b[1;32m      1\u001b[0m \u001b[0mprint\u001b[0m\u001b[0;34m(\u001b[0m\u001b[0;34m\"The value of x is:\"\u001b[0m\u001b[0;34m,\u001b[0m\u001b[0mtemp\u001b[0m\u001b[0;34m)\u001b[0m\u001b[0;34m\u001b[0m\u001b[0m\n\u001b[0;32m----> 2\u001b[0;31m \u001b[0mprint\u001b[0m\u001b[0;34m(\u001b[0m\u001b[0;34m\"The value of x/3 is:\"\u001b[0m\u001b[0;34m,\u001b[0m \u001b[0mtemp\u001b[0m\u001b[0;34m/\u001b[0m\u001b[0;36m3\u001b[0m\u001b[0;34m)\u001b[0m\u001b[0;34m\u001b[0m\u001b[0m\n\u001b[0m",
      "\u001b[0;31mTypeError\u001b[0m: unsupported operand type(s) for /: 'str' and 'int'"
     ]
    }
   ],
   "source": [
    "print(\"The value of x is:\",temp)\n",
    "print(\"The value of x/3 is:\", temp/3)"
   ]
  },
  {
   "cell_type": "markdown",
   "metadata": {},
   "source": [
    "This works better:"
   ]
  },
  {
   "cell_type": "code",
   "execution_count": null,
   "metadata": {},
   "outputs": [],
   "source": [
    "x=int(temp)\n",
    "print(\"The value of x is:\",x)\n",
    "print(\"The value of x/3 is:\", x/3)"
   ]
  },
  {
   "cell_type": "markdown",
   "metadata": {},
   "source": [
    "Here's another version:"
   ]
  },
  {
   "cell_type": "code",
   "execution_count": 25,
   "metadata": {
    "collapsed": true
   },
   "outputs": [],
   "source": [
    "x=float(input(\"Enter the value of x: \"))"
   ]
  },
  {
   "cell_type": "markdown",
   "metadata": {},
   "source": [
    "## 2.2.4 Arithmetic\n",
    "\n",
    "### Basic Arithmetic\n",
    "\n",
    "- addition: x+y\n",
    "- subtraction: x-y\n",
    "- multiplication: x*y\n",
    "- division: x/y # This always returns a float!\n",
    "- powers: x**y\n",
    "- integer division: x//y\n",
    "- modulo: x%y\n",
    "\n",
    "Regular division will never give an integer result. Otherwise, results are the most general variable type of input variables. Order of operation follows regular algebra.\n",
    "\n",
    "\n",
    "### More Obscrure Arithmetic\n",
    "\n",
    "- bitwise OR: x/y\n",
    "- bitwise AND: x&y\n",
    "- bitwise XOR: x^y\n",
    "- shifting integer bits x rightwards y places: x>>y\n",
    "- shifting integer bits x leftwards y places: x<<y\n",
    "\n",
    "### Python Modifiers\n",
    "\n",
    "These eliminate the need to write assignment statements that look like bad algebra.\n",
    "\n",
    "- x += 1\n",
    "- x -= 4\n",
    "- x *= -2.6\n",
    "- x /= 5*y\n",
    "- x //= 4.4\n",
    "\n",
    "### Assigning multiple variables in a single statement\n",
    "\n",
    "The key here is to remember that python will evaluate the expressins on the right first, and them assign them to the variables on the left.\n",
    "\n",
    "x,y = 2*z+1, (x+y)/3 \n",
    "\n",
    "x, y = y, x\n",
    "\n"
   ]
  },
  {
   "cell_type": "markdown",
   "metadata": {},
   "source": [
    "## 2.2.5 Functions, Packages, and Modules\n",
    "\n",
    "Here are some __packages__ that contain key __functions__ and variables. Some packages have __modules__.\n",
    "\n",
    " - math\n",
    " - numpy\n",
    " - pylab\n",
    " \n",
    "Because astronomy invovles numbers thatn involve huge orders of magnitude, astronomy related packages often have versions of funtions that are better suited for astronomy (surprise!). If there are packags desdigned to address your specific problem exist, try to use those.\n",
    "\n",
    "Since different packages may have functions with the same name, its best to import each function or variable you want to use explicitly from your package of choice."
   ]
  },
  {
   "cell_type": "code",
   "execution_count": null,
   "metadata": {
    "collapsed": true
   },
   "outputs": [],
   "source": [
    "from pylab import plot, show, ylim\n",
    "\n",
    "from pylab import ylim, xlabel, ylabel\n",
    "\n",
    "from numpy import linspace, sin, cos\n",
    "\n",
    "from numpy import loadtxt"
   ]
  },
  {
   "cell_type": "markdown",
   "metadata": {},
   "source": [
    "## 2.2.6 BuiltIn Functions\n",
    "\n",
    "abs()\n",
    "\n",
    "## 2.2.7 Comment Statements\n"
   ]
  },
  {
   "cell_type": "code",
   "execution_count": 29,
   "metadata": {
    "scrolled": true
   },
   "outputs": [
    {
     "name": "stdout",
     "output_type": "stream",
     "text": [
      "Python ignores anything that follows a #.\n"
     ]
    }
   ],
   "source": [
    "# This is a comment\n",
    "print(\"Python ignores anything that follows a #.\") # another comment"
   ]
  },
  {
   "cell_type": "markdown",
   "metadata": {},
   "source": [
    "# 2.3 Controlling Programs with \"if\" and \"while\"\n",
    "\n",
    "## 2.3.2 The \"if\" statement\n",
    "\n",
    "The indentations in the if statment are necessary! One is enough but four spaces is standard practice."
   ]
  },
  {
   "cell_type": "code",
   "execution_count": 31,
   "metadata": {},
   "outputs": [
    {
     "name": "stdout",
     "output_type": "stream",
     "text": [
      "You entered a value greater than ten!\n",
      "I shall fix that...\n",
      "your number is 10\n"
     ]
    }
   ],
   "source": [
    "x = int(input(\"Enter a whole number no grater than ten: \"))\n",
    "if x>10:\n",
    "    print(\"You entered a value greater than ten!\")\n",
    "    print(\"I shall fix that...\")\n",
    "    x = 10\n",
    "print(\"your number is\", x)    "
   ]
  },
  {
   "cell_type": "markdown",
   "metadata": {},
   "source": [
    "Here are some __condition__ statements:\n",
    "```\n",
    "if x == 1:\n",
    "if x > 1:\n",
    "if x >= 1:\n",
    "if x < 1:\n",
    "if x <= 1:\n",
    "if x != 1:\n",
    "if x > 10 or x <1:\n",
    "if x<= 10 and x>= 1: # can combine multiple conditions with and/or\n",
    "elif x>9: # there can be as many of these as you like\n",
    "else:\n",
    "```\n",
    "\n",
    "## 2.3.2 The `while` Statement\n",
    "\n",
    "This is just a variation of the `if` statement, with the possibility of entering and infinite loop. Close the windown in which the prgram is running to exit. In Jupyter Lab, you can kill the kernel in which it is running under the Running tab.\n",
    "\n",
    "There is an option for an `else` statement which will be executed once and only once when the condition for the `while` statement fails.\n",
    "\n",
    "Here's a nifty little program:"
   ]
  },
  {
   "cell_type": "code",
   "execution_count": 33,
   "metadata": {
    "scrolled": true
   },
   "outputs": [
    {
     "name": "stdout",
     "output_type": "stream",
     "text": [
      "1\n",
      "1\n",
      "2\n",
      "3\n",
      "5\n",
      "8\n",
      "13\n",
      "21\n",
      "34\n",
      "55\n",
      "89\n",
      "144\n",
      "233\n",
      "377\n",
      "You've generated the Fibonacci sequence up to 500 !\n"
     ]
    }
   ],
   "source": [
    "f1, f2, maxf1 = 1, 1, 500\n",
    "while f1<= maxf1:\n",
    "    print(f1)\n",
    "    f1, f2 = f2, f1+f2\n",
    "else: print(\"You've generated the Fibonacci sequence up to\", maxf1,\"!\")"
   ]
  },
  {
   "cell_type": "markdown",
   "metadata": {},
   "source": [
    "## 2.3.3 `break` and `continue`\n",
    "\n",
    "`break` forces an exit out of the `while` statement\n",
    "\n",
    "`continue` skips the rest of the while statement and goes back to the beginng of the `while` statement and re-evaluates the condition."
   ]
  },
  {
   "cell_type": "markdown",
   "metadata": {},
   "source": [
    "# 2.4 Lists and Arrays\n",
    "\n",
    "__Containers__ are collections of numbers.\n",
    "\n",
    "## 2.4.1 Lists\n",
    "\n",
    "A variable can be a list, and a list can contain __elements__ of different types. It can even be empty."
   ]
  },
  {
   "cell_type": "code",
   "execution_count": 51,
   "metadata": {
    "collapsed": true
   },
   "outputs": [],
   "source": [
    "r = [1,2,3,4,5.0,6+4.5j]\n",
    "x, y, z = 1,2,3\n",
    "r=[x,y,z]\n",
    "r = [2*x, x+y, z/sqrt(x**2+y**2)]\n",
    "r=[]"
   ]
  },
  {
   "cell_type": "markdown",
   "metadata": {},
   "source": [
    "Note below that reference to the elements starts with `[0]`"
   ]
  },
  {
   "cell_type": "code",
   "execution_count": 37,
   "metadata": {},
   "outputs": [
    {
     "name": "stdout",
     "output_type": "stream",
     "text": [
      "2.8442925306655784\n"
     ]
    }
   ],
   "source": [
    "from math import sqrt\n",
    "r = [1.0,1.5,-2.2]\n",
    "length = sqrt(r[0]**2+r[1]**2+r[2]**2)\n",
    "print(length)"
   ]
  },
  {
   "cell_type": "markdown",
   "metadata": {},
   "source": [
    "There are built in functions that operate on entire lists at once:"
   ]
  },
  {
   "cell_type": "code",
   "execution_count": 41,
   "metadata": {},
   "outputs": [
    {
     "name": "stdout",
     "output_type": "stream",
     "text": [
      "0.2999999999999998 1.5 -2.2 3 0.09999999999999994\n"
     ]
    }
   ],
   "source": [
    "total = sum(r)\n",
    "rmax = max(r)\n",
    "rmin = min(r)\n",
    "n_r = len(r)\n",
    "print(total, rmax, rmin, n_r, total/n_r)"
   ]
  },
  {
   "cell_type": "markdown",
   "metadata": {},
   "source": [
    "Python can apply a function to whole list through the special function __`map`__. The resulting __object__, called an __iterator__, can be assigned to a list variable."
   ]
  },
  {
   "cell_type": "code",
   "execution_count": 47,
   "metadata": {},
   "outputs": [
    {
     "name": "stdout",
     "output_type": "stream",
     "text": [
      "[1.0, 1.5, -2.2]\n",
      "[0.0, 0.4054651081081644, 0.7884573603642703]\n"
     ]
    }
   ],
   "source": [
    "from math import log\n",
    "r = [1.0,1.5,-2.2]\n",
    "r_n =list(map(abs,r)) # log will only take positive numbers\n",
    "logr = list(map(log,r_n)) \n",
    "print(r)\n",
    "print(logr)"
   ]
  },
  {
   "cell_type": "markdown",
   "metadata": {},
   "source": [
    "It's possible to add or remove elements from lists"
   ]
  },
  {
   "cell_type": "code",
   "execution_count": 48,
   "metadata": {},
   "outputs": [
    {
     "name": "stdout",
     "output_type": "stream",
     "text": [
      "[1.0, 1.5, -2.2, 6.1]\n",
      "[1.0, 1.5, -2.2]\n",
      "[1.0, -2.2]\n"
     ]
    }
   ],
   "source": [
    "r.append(6.1)\n",
    "print(r)\n",
    "r.pop()\n",
    "print(r)\n",
    "r.pop(1)\n",
    "print(r)"
   ]
  },
  {
   "cell_type": "markdown",
   "metadata": {},
   "source": [
    "## 2.4.2 Arrays\n",
    "\n",
    "Arrays have a fixed number of elements of the same variable type. They can be multi-dimentional and behave mathematically like like vectors and matrices. They also work faster than lists.\n",
    "\n",
    "Here are some ways to create them:"
   ]
  },
  {
   "cell_type": "code",
   "execution_count": 58,
   "metadata": {},
   "outputs": [
    {
     "name": "stdout",
     "output_type": "stream",
     "text": [
      "[  3.10503618e+231  -4.33385699e-311   2.14689531e-314   2.78134232e-309]\n",
      "[[ 0.  0.  0.  0.]\n",
      " [ 0.  0.  0.  0.]\n",
      " [ 0.  0.  0.  0.]]\n",
      "[[1 2 3]\n",
      " [3 4 5]]\n",
      "2\n",
      "5\n"
     ]
    }
   ],
   "source": [
    "from numpy import zeros, empty, array\n",
    "a = empty(4, float)\n",
    "print(a)\n",
    "a = zeros([3,4], float)\n",
    "print(a)\n",
    "row1 = [1,2,3]\n",
    "row2 = [3,4,5]\n",
    "a = array([row1,row2])\n",
    "print(a)\n",
    "print(a[0,1]) # note the row first column second convention\n",
    "print(a[1,2])"
   ]
  },
  {
   "cell_type": "markdown",
   "metadata": {},
   "source": [
    "## 2.4.3 Reading an Array from a File\n",
    "\n",
    "In principle, the following can also work for a two dimentional array."
   ]
  },
  {
   "cell_type": "code",
   "execution_count": 69,
   "metadata": {},
   "outputs": [
    {
     "name": "stdout",
     "output_type": "stream",
     "text": [
      "101\n"
     ]
    }
   ],
   "source": [
    "from numpy import loadtxt\n",
    "data = loadtxt(\"./cpresources/velocities.txt\", float)\n",
    "print(len(data))"
   ]
  },
  {
   "cell_type": "markdown",
   "metadata": {},
   "source": [
    "## 2.4.4 Arithmetic with Arrays\n",
    "\n",
    "In general, arithmetic operations are applied independently to each element of the array or arrays."
   ]
  },
  {
   "cell_type": "code",
   "execution_count": 70,
   "metadata": {},
   "outputs": [
    {
     "name": "stdout",
     "output_type": "stream",
     "text": [
      "[ 2  8 18 32]\n",
      "[ 4 16 36 64]\n"
     ]
    }
   ],
   "source": [
    "a=array([1,2,3,4],int)\n",
    "b=array([2,4,6,8],int)\n",
    "print(a*b)\n",
    "print(a*(2*b))"
   ]
  },
  {
   "cell_type": "markdown",
   "metadata": {},
   "source": [
    "For vector or matric products use `dot`"
   ]
  },
  {
   "cell_type": "code",
   "execution_count": 71,
   "metadata": {
    "scrolled": true
   },
   "outputs": [
    {
     "name": "stdout",
     "output_type": "stream",
     "text": [
      "60\n"
     ]
    }
   ],
   "source": [
    "from numpy import dot\n",
    "print(dot(a,b))"
   ]
  },
  {
   "cell_type": "markdown",
   "metadata": {},
   "source": [
    "Functions that apply to lists can also be used for one-dimentional arrays. However, the `numpy` package contains functions that work for arrays of all dimentions."
   ]
  },
  {
   "cell_type": "code",
   "execution_count": 74,
   "metadata": {
    "scrolled": true
   },
   "outputs": [
    {
     "name": "stdout",
     "output_type": "stream",
     "text": [
      "8\n",
      "(2, 4)\n"
     ]
    }
   ],
   "source": [
    "c = array([a,b])\n",
    "print(c.size)\n",
    "print(c.shape) # the result of this is technically called a \"tuple\" but it works like a list"
   ]
  },
  {
   "cell_type": "markdown",
   "metadata": {},
   "source": [
    "### CAUTION Renaming Arrays vs Assigning the values of an Array to a New Array"
   ]
  },
  {
   "cell_type": "code",
   "execution_count": 75,
   "metadata": {},
   "outputs": [
    {
     "name": "stdout",
     "output_type": "stream",
     "text": [
      "[2 1]\n",
      "[2 1]\n"
     ]
    }
   ],
   "source": [
    "from numpy import array\n",
    "a = array ([1,1],int)\n",
    "b = a\n",
    "a[0] = 2\n",
    "print(a)\n",
    "print(b)"
   ]
  },
  {
   "cell_type": "markdown",
   "metadata": {},
   "source": [
    "The example above shows that if `a` is an array `b=a` just creates a new alias, i.e. new name, for the array `a`. To copy an array the function `copy` from the `numpy` package is necessary."
   ]
  },
  {
   "cell_type": "markdown",
   "metadata": {},
   "source": [
    "## 2.4.5 Slicing\n",
    "\n",
    "Get a subset of a list or array:"
   ]
  },
  {
   "cell_type": "code",
   "execution_count": 77,
   "metadata": {},
   "outputs": [
    {
     "name": "stdout",
     "output_type": "stream",
     "text": [
      "[2 4 6 8]\n"
     ]
    }
   ],
   "source": [
    "sub = c[1,:]\n",
    "print(sub)"
   ]
  },
  {
   "cell_type": "markdown",
   "metadata": {},
   "source": [
    "# 2.5 For Loops\n",
    "\n",
    "In Python, the default for for loops, `for n in r`, goes through each element of a list or array. It will also take `break` and `continue` statments."
   ]
  },
  {
   "cell_type": "code",
   "execution_count": 79,
   "metadata": {},
   "outputs": [
    {
     "name": "stdout",
     "output_type": "stream",
     "text": [
      "1\n",
      "2\n",
      "3\n",
      "6\n",
      "5\n",
      "10\n",
      "Finished!\n"
     ]
    }
   ],
   "source": [
    "r = [1,3,5]\n",
    "for n in r:\n",
    "    print(n)\n",
    "    print(2*n)\n",
    "print(\"Finished!\")"
   ]
  },
  {
   "cell_type": "markdown",
   "metadata": {},
   "source": [
    "Python has a built-in function to generate a list (technically an iterator) of numbers. If there is only one arguent, it will generate n numbers ranging from 0 to n-1. When given two arguments, it will generate a list starting from the first number, and ending before the last number, in incremetns of 1. A third argument specifies the spacing. (The iterator can be turned into a list using `list(range(n))`. This is necessary to print what `range` generates.)"
   ]
  },
  {
   "cell_type": "code",
   "execution_count": 81,
   "metadata": {},
   "outputs": [
    {
     "name": "stdout",
     "output_type": "stream",
     "text": [
      "0\n",
      "1\n",
      "4\n",
      "9\n",
      "16\n"
     ]
    }
   ],
   "source": [
    "for n in range(5):\n",
    "    print(n**2)"
   ]
  },
  {
   "cell_type": "code",
   "execution_count": 86,
   "metadata": {},
   "outputs": [
    {
     "name": "stdout",
     "output_type": "stream",
     "text": [
      "[2, 3, 4, 5, 6, 7]\n"
     ]
    }
   ],
   "source": [
    "print(list(range(2,8)))"
   ]
  },
  {
   "cell_type": "code",
   "execution_count": 85,
   "metadata": {},
   "outputs": [
    {
     "name": "stdout",
     "output_type": "stream",
     "text": [
      "[20, 17, 14, 11, 8, 5]\n"
     ]
    }
   ],
   "source": [
    "print(list(range(20,2,-3)))"
   ]
  },
  {
   "cell_type": "markdown",
   "metadata": {},
   "source": [
    "`numpy` has some other handy functions `arange()` and `linspace()` `arange` generates actual arrays, both integer and floating point, equivalent to range. `linspace` will generate a floating point array with a given number of elements within given limits."
   ]
  },
  {
   "cell_type": "code",
   "execution_count": 92,
   "metadata": {},
   "outputs": [
    {
     "name": "stdout",
     "output_type": "stream",
     "text": [
      "[ 1.  3.  5.  7.]\n"
     ]
    }
   ],
   "source": [
    "from numpy import arange, linspace\n",
    "print(arange(1.0,8.0,2.0))"
   ]
  },
  {
   "cell_type": "code",
   "execution_count": 93,
   "metadata": {},
   "outputs": [
    {
     "name": "stdout",
     "output_type": "stream",
     "text": [
      "[ 2.   2.4  2.8]\n"
     ]
    }
   ],
   "source": [
    "print(linspace(2.0, 2.8, 3))"
   ]
  },
  {
   "cell_type": "markdown",
   "metadata": {},
   "source": [
    "### Example 2.6 Performing a Sum"
   ]
  },
  {
   "cell_type": "code",
   "execution_count": 98,
   "metadata": {
    "scrolled": true
   },
   "outputs": [
    {
     "name": "stdout",
     "output_type": "stream",
     "text": [
      "(101, 2)\n",
      "[  6.76700000e+05   5.28484584e+01]\n",
      "[  1.01505000e+06   7.92726875e+01]\n",
      "202\n",
      "(101, 2)\n"
     ]
    }
   ],
   "source": [
    "data = loadtxt(\"./cpresources/velocities.txt\", float)\n",
    "print(data.shape)\n",
    "s = empty(2, float)# create variable\n",
    "print(s)\n",
    "for x in data:\n",
    "    s += x**2\n",
    "print(s)"
   ]
  },
  {
   "cell_type": "markdown",
   "metadata": {},
   "source": [
    "Create some data and plot it. Once the plot is generated as an object, then you need to `show()` it."
   ]
  },
  {
   "cell_type": "markdown",
   "metadata": {},
   "source": [
    "### Example 2.7 Emission Lines of Hydrogen"
   ]
  },
  {
   "cell_type": "code",
   "execution_count": 99,
   "metadata": {
    "scrolled": true
   },
   "outputs": [
    {
     "name": "stdout",
     "output_type": "stream",
     "text": [
      "Series for m = 1\n",
      "    121.5436037678517  nm\n",
      "    102.55241567912488  nm\n",
      "    97.23488301428137  nm\n",
      "    94.95594044363415  nm\n",
      "    93.76220862091418  nm\n",
      "Series for m = 2\n",
      "    656.3354603463993  nm\n",
      "    486.1744150714068  nm\n",
      "    434.084299170899  nm\n",
      "    410.2096627164995  nm\n",
      "    397.04243897498225  nm\n",
      "Series for m = 3\n",
      "    1875.2441724182836  nm\n",
      "    1281.9051959890612  nm\n",
      "    1093.8924339106654  nm\n",
      "    1005.013673655424  nm\n",
      "    954.6697605038536  nm\n"
     ]
    }
   ],
   "source": [
    "R=1.097e-2\n",
    "for m in range(1,4):\n",
    "    print('Series for m =', m)\n",
    "    for n in range(m+1,m+6):\n",
    "        invlambda = R*(1/m**2 - 1/n**2)\n",
    "        print(\"   \", 1/invlambda,' nm')"
   ]
  },
  {
   "cell_type": "markdown",
   "metadata": {},
   "source": [
    "# User-Defined Functions\n",
    "\n",
    "Let's define a function. Remember that variables defined within a function are __local variables__ that only exists within the function."
   ]
  },
  {
   "cell_type": "code",
   "execution_count": 103,
   "metadata": {
    "collapsed": true
   },
   "outputs": [],
   "source": [
    "def factorial(n):\n",
    "    f=1.0\n",
    "    for k in range(1,n+1):\n",
    "        f *= k\n",
    "    return f"
   ]
  },
  {
   "cell_type": "markdown",
   "metadata": {},
   "source": [
    "Now let's use it."
   ]
  },
  {
   "cell_type": "code",
   "execution_count": 104,
   "metadata": {},
   "outputs": [
    {
     "name": "stdout",
     "output_type": "stream",
     "text": [
      "3628800.0\n"
     ]
    }
   ],
   "source": [
    "print(factorial(10))"
   ]
  },
  {
   "cell_type": "markdown",
   "metadata": {},
   "source": [
    "Note that functions can have multiple inputs and nultiple or no output. For good form , functions are typically placed at the beginning of a program. However, they can be place in a separate `.py` file and imported like any other Python function."
   ]
  },
  {
   "cell_type": "markdown",
   "metadata": {},
   "source": [
    "### Example 2.8 Prime Numbers"
   ]
  },
  {
   "cell_type": "code",
   "execution_count": 108,
   "metadata": {
    "collapsed": true
   },
   "outputs": [],
   "source": [
    "def factors(n):\n",
    "    factorlist = [] # create an empty list\n",
    "    k=2 # start with two\n",
    "    while k<=n:\n",
    "        while n%k==0: # if there is no remainder, it is a factor\n",
    "            factorlist.append(k) # add it to the factorlist\n",
    "            n //= k # now we just need to find the factors of n/k which we make the new n, but an integer\n",
    "        k += 1 # increment k\n",
    "    return factorlist"
   ]
  },
  {
   "cell_type": "markdown",
   "metadata": {},
   "source": [
    "# 2.7 Good Programming Style\n",
    "\n",
    "1. Include comments\n",
    "2. Use meaningful variable names\n",
    "3. Use the right type of variables\n",
    "44. Import functions first\n",
    "5. Give your constants names\n",
    "6. Use user-fefine functions where appropriate\n",
    "7. Print out partia res7ults and updates throughout your program\n",
    "8. Lay out your program clearly\n",
    "9. Dont't make your program unnecessarily complicated\n"
   ]
  },
  {
   "cell_type": "code",
   "execution_count": null,
   "metadata": {
    "collapsed": true
   },
   "outputs": [],
   "source": [
    "\n"
   ]
  }
 ],
 "metadata": {
  "kernelspec": {
   "display_name": "Python 3",
   "language": "python",
   "name": "python3"
  },
  "language_info": {
   "codemirror_mode": {
    "name": "ipython",
    "version": 3
   },
   "file_extension": ".py",
   "mimetype": "text/x-python",
   "name": "python",
   "nbconvert_exporter": "python",
   "pygments_lexer": "ipython3",
   "version": "3.6.3"
  }
 },
 "nbformat": 4,
 "nbformat_minor": 2
}
