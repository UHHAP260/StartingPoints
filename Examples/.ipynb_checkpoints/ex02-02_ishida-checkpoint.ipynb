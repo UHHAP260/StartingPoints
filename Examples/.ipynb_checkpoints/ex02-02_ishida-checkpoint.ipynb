{
 "cells": [
  {
   "cell_type": "markdown",
   "metadata": {},
   "source": [
    "\n",
    "# Exercise 2.2 Altitude of a Satellite\n",
    "\n",
    "Note: Skip part a). We'll do this in class.\n",
    "\n",
    "A satellite is to be launched into a circular orbit around the Earth so that it orbits the planet once every T seconds.\n",
    "\n",
    "a) Show that the altitude h above the Earth’s surface that the satellite must have is  \n",
    "\n",
    "$$ h = (\\frac{GMT^2}{4\\pi^2})^{1/3} - R $$\n",
    "\n",
    "where \n",
    "\n",
    "G = 6.67 × 10−11 m3 kg−1 s−2 is Newton’s gravitational constant, \n",
    "\n",
    "M = 5.97 × 1024 kg is the mass of the Earth, and \n",
    "\n",
    "R = 6371 km is its radius.\n",
    "\n",
    "b) Write a program that asks the user to enter the desired value of T and then calculates and\n",
    "prints out the correct altitude in meters.\n",
    "\n",
    "c) Use your program to calculate the altitudes of satellites that orbit the Earth once a day (so-called “geosynchronous” orbit), once every 90 minutes, and once every 45 minutes. What do you conclude from the last of these calculations?\n",
    "\n",
    "d) Technically a geosynchronous satellite is one that orbits the Earth once per sidereal day, which is 23.93 hours, not 24 hours. Why is this? And how much difference will it make to the altitude of the satellite?\n"
   ]
  },
  {
   "cell_type": "markdown",
   "metadata": {},
   "source": [
    "## Getting Started\n",
    "\n",
    "Take a moment to state how you plan to do the exrcise. Write some pseudo code. Include a summary of your plan in the begging of the notebook. As you carryout your plan, if you encounter noteworthy challenges, come back here and include some notes. For example:\n",
    "\n",
    "Note: Sometimes I need to run the cell twice to get latex to render properly.\n",
    "\n",
    "Note: Reference for astropy constants [here](http://astropy.readthedocs.io/en/v0.3.2/constants/index.html)\n",
    "\n",
    "Note: Using the astropy constants don't necessarily make the code simpler. Here it's simply meant to introduce the fact that a package that contains tools of particular interest to astronomers exists. Among the tools are a collection of commonly used \"quantities.\" \n",
    "\n",
    "The example below is records most, if not all, of what I needed to do to complete the exercise to my own satisfaction. In the beginning, err on the side of saying more than you need to. As you get comfortable coding, python, and your coding environment, you won't have as much to comment on.\n"
   ]
  },
  {
   "cell_type": "markdown",
   "metadata": {},
   "source": [
    "## Here's an example:\n",
    "\n",
    "### Part B\n",
    "\n",
    "Code must:\n",
    "    get period=T\n",
    "    calculate height of satellite = h\n",
    "    print h in meters\n",
    "\n",
    "Plan:\n",
    "\n",
    "I'll ge the mecahnics of the code working, then add input and output statements.\n",
    "\n",
    "Outcome: wrote a function height(T) that returns the height if given T and another function \n",
    "statellite_height() that asks for inout and then prints the result."
   ]
  },
  {
   "cell_type": "code",
   "execution_count": 2,
   "metadata": {},
   "outputs": [],
   "source": [
    "# for fun, import necessary constants from the astropy package\n",
    "# these are \"quantity\" objects, not variables\n",
    "from astropy.constants import G, M_earth, R_earth\n",
    "from math import pi"
   ]
  },
  {
   "cell_type": "code",
   "execution_count": 3,
   "metadata": {},
   "outputs": [
    {
     "name": "stdout",
     "output_type": "stream",
     "text": [
      "  Name   = Gravitational constant\n",
      "  Value  = 6.67408e-11\n",
      "  Uncertainty  = 3.1e-15\n",
      "  Unit  = m3 / (kg s2)\n",
      "  Reference = CODATA 2014\n",
      "  Name   = Earth mass\n",
      "  Value  = 5.972364730419773e+24\n",
      "  Uncertainty  = 2.7740648395436216e+20\n",
      "  Unit  = kg\n",
      "  Reference = IAU 2015 Resolution B 3 + CODATA 2014\n",
      "  Name   = Nominal Earth equatorial radius\n",
      "  Value  = 6378100.0\n",
      "  Uncertainty  = 0.0\n",
      "  Unit  = m\n",
      "  Reference = IAU 2015 Resolution B 3\n",
      "3.141592653589793\n"
     ]
    }
   ],
   "source": [
    "print(G)\n",
    "print(M_earth)\n",
    "print(R_earth)"
   ]
  },
  {
   "cell_type": "code",
   "execution_count": 4,
   "metadata": {},
   "outputs": [],
   "source": [
    "# import pi from math\n",
    "# this is a variable\n",
    "from math import pi"
   ]
  },
  {
   "cell_type": "code",
   "execution_count": 5,
   "metadata": {},
   "outputs": [
    {
     "name": "stdout",
     "output_type": "stream",
     "text": [
      "3.141592653589793\n"
     ]
    }
   ],
   "source": [
    "print(pi)"
   ]
  },
  {
   "cell_type": "code",
   "execution_count": 9,
   "metadata": {},
   "outputs": [],
   "source": [
    "# test my equation\n",
    "# for units to work out,\n",
    "# T should be in seconds\n",
    "# h should be in meters\n",
    "T=0.\n",
    "h=0.\n",
    "h=(G.value*M_earth.value*T**2/4.*pi**2)**(1./3.)-R_earth.value"
   ]
  },
  {
   "cell_type": "code",
   "execution_count": 10,
   "metadata": {},
   "outputs": [
    {
     "name": "stdout",
     "output_type": "stream",
     "text": [
      "-6378100.0\n"
     ]
    }
   ],
   "source": [
    "# I expect this to return -R_earth\n",
    "print(h)"
   ]
  },
  {
   "cell_type": "code",
   "execution_count": 18,
   "metadata": {},
   "outputs": [],
   "source": [
    "# turn this into a function\n",
    "def height(T):\n",
    "    from astropy.constants import G, M_earth, R_earth\n",
    "    from math import pi \n",
    "    return ((G.value*M_earth.value*T**2)/(4.*pi**2))**(1./3.)-R_earth.value\n"
   ]
  },
  {
   "cell_type": "code",
   "execution_count": 19,
   "metadata": {},
   "outputs": [
    {
     "name": "stdout",
     "output_type": "stream",
     "text": [
      "274455.46878318116\n"
     ]
    }
   ],
   "source": [
    "# try it out\n",
    "print(height(90.*60.))"
   ]
  },
  {
   "cell_type": "code",
   "execution_count": 20,
   "metadata": {},
   "outputs": [
    {
     "name": "stdout",
     "output_type": "stream",
     "text": [
      "35862994.19769288\n"
     ]
    }
   ],
   "source": [
    "print(height(24.*60.*60))"
   ]
  },
  {
   "cell_type": "code",
   "execution_count": 22,
   "metadata": {},
   "outputs": [],
   "source": [
    "# now create a program that will do the input and output\n",
    "# lets test the basic mechanisms first\n",
    "T=input(\"Enter the period of the satellite in seconds.\")"
   ]
  },
  {
   "cell_type": "code",
   "execution_count": 23,
   "metadata": {},
   "outputs": [
    {
     "name": "stdout",
     "output_type": "stream",
     "text": [
      "5400\n"
     ]
    }
   ],
   "source": [
    "print(T)"
   ]
  },
  {
   "cell_type": "code",
   "execution_count": 24,
   "metadata": {},
   "outputs": [
    {
     "name": "stdout",
     "output_type": "stream",
     "text": [
      "<class 'str'>\n"
     ]
    }
   ],
   "source": [
    "# input always returns string\n",
    "# lets doublecheck\n",
    "print(type(T))"
   ]
  },
  {
   "cell_type": "code",
   "execution_count": 25,
   "metadata": {},
   "outputs": [
    {
     "name": "stdout",
     "output_type": "stream",
     "text": [
      "5400.0\n",
      "<class 'float'>\n"
     ]
    }
   ],
   "source": [
    "# need to convert\n",
    "T=float(T)\n",
    "print(T)\n",
    "print(type(T))"
   ]
  },
  {
   "cell_type": "code",
   "execution_count": 26,
   "metadata": {},
   "outputs": [
    {
     "name": "stdout",
     "output_type": "stream",
     "text": [
      "3.6.3 |Anaconda custom (64-bit)| (default, Oct  6 2017, 12:04:38) \n",
      "[GCC 4.2.1 Compatible Clang 4.0.1 (tags/RELEASE_401/final)]\n"
     ]
    }
   ],
   "source": [
    "# ok, need to play with output now\n",
    "# lets see what version of python I'm running\n",
    "import sys\n",
    "print(sys.version)"
   ]
  },
  {
   "cell_type": "code",
   "execution_count": 27,
   "metadata": {},
   "outputs": [
    {
     "data": {
      "text/plain": [
       "'3.6.3'"
      ]
     },
     "execution_count": 27,
     "metadata": {},
     "output_type": "execute_result"
    }
   ],
   "source": [
    "# here is another command I found on the internet\n",
    "import platform\n",
    "platform.python_version()"
   ]
  },
  {
   "cell_type": "code",
   "execution_count": 29,
   "metadata": {},
   "outputs": [
    {
     "name": "stdout",
     "output_type": "stream",
     "text": [
      "The height of the satellite would be -6378100 meters.\n"
     ]
    }
   ],
   "source": [
    "# My system is running 3.6 so I will use the 3.6+ syntax\n",
    "print(f\"The height of the satellite would be {h:.0f} meters.\")"
   ]
  },
  {
   "cell_type": "code",
   "execution_count": 35,
   "metadata": {},
   "outputs": [],
   "source": [
    "# I have all the pieces I need to combine all the pieces into a single function\n",
    "def satellite_height():\n",
    "    from astropy.constants import G, M_earth, R_earth\n",
    "    from math import pi\n",
    "    T=float(input(\"Enter the period of the satellite in seconds.\"))\n",
    "    h=((G.value*M_earth.value*T**2)/(4.*pi**2))**(1./3.)-R_earth.value\n",
    "    print(f\"The height of the satellite would be {h:.0f} meters.\") \n",
    "     \n"
   ]
  },
  {
   "cell_type": "code",
   "execution_count": 36,
   "metadata": {},
   "outputs": [
    {
     "name": "stdout",
     "output_type": "stream",
     "text": [
      "The height of the satellite would be 274455 meters.\n"
     ]
    }
   ],
   "source": [
    "# test!\n",
    "satellite_height()"
   ]
  },
  {
   "cell_type": "markdown",
   "metadata": {},
   "source": [
    "### Part C\n",
    "\n",
    "I'm just going to use the function height that I defined earlier since it is easier.\n",
    "\n",
    "I can see that goesynchronous satellites are over 100 times higher in altitude than the ISS \n",
    "and 45 minute orbits are impossible."
   ]
  },
  {
   "cell_type": "code",
   "execution_count": 45,
   "metadata": {},
   "outputs": [
    {
     "name": "stdout",
     "output_type": "stream",
     "text": [
      "35780819\n"
     ]
    }
   ],
   "source": [
    "print(f\"{height(23.93*60*60):.0f}\")"
   ]
  },
  {
   "cell_type": "code",
   "execution_count": 42,
   "metadata": {},
   "outputs": [
    {
     "name": "stdout",
     "output_type": "stream",
     "text": [
      "274455\n"
     ]
    }
   ],
   "source": [
    "print(f\"{height(5400.):.0f}\")"
   ]
  },
  {
   "cell_type": "code",
   "execution_count": 43,
   "metadata": {},
   "outputs": [
    {
     "name": "stdout",
     "output_type": "stream",
     "text": [
      "-2187253\n"
     ]
    }
   ],
   "source": [
    "print(f\"{height(45.*60.):.0f}\")"
   ]
  },
  {
   "cell_type": "markdown",
   "metadata": {},
   "source": [
    "### Part D\n",
    "\n",
    "It takes Earth one siderial day to rotate with respect to the coordinate system fixed by stars. \n",
    "However, since Earth revolves around the Sun, it takes more than one rotation for a particular location on Earth\n",
    "to line up with the Sun-Earth line.\n",
    "\n",
    "According to the calculations below, the difference in oribtal period would lead to a 82km or a 0.2% change in altitude."
   ]
  },
  {
   "cell_type": "code",
   "execution_count": 49,
   "metadata": {},
   "outputs": [
    {
     "name": "stdout",
     "output_type": "stream",
     "text": [
      "82175.43974553794\n",
      "0.002293999617145408\n"
     ]
    }
   ],
   "source": [
    "h_sid=height(23.93*60.*60.)\n",
    "h_syn=height(24.*60.*60.)\n",
    "print(h_syn - h_sid)\n",
    "print((h_syn - h_sid)/(0.5*(h_syn + h_sid)))"
   ]
  },
  {
   "cell_type": "code",
   "execution_count": null,
   "metadata": {},
   "outputs": [],
   "source": []
  },
  {
   "cell_type": "code",
   "execution_count": null,
   "metadata": {},
   "outputs": [],
   "source": []
  }
 ],
 "metadata": {
  "kernelspec": {
   "display_name": "Python 3",
   "language": "python",
   "name": "python3"
  },
  "language_info": {
   "codemirror_mode": {
    "name": "ipython",
    "version": 3
   },
   "file_extension": ".py",
   "mimetype": "text/x-python",
   "name": "python",
   "nbconvert_exporter": "python",
   "pygments_lexer": "ipython3",
   "version": "3.6.3"
  }
 },
 "nbformat": 4,
 "nbformat_minor": 2
}
